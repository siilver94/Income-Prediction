{
 "cells": [
  {
   "cell_type": "markdown",
   "id": "950f9cdc",
   "metadata": {
    "papermill": {
     "duration": 0.011393,
     "end_time": "2024-02-14T15:27:02.933538",
     "exception": false,
     "start_time": "2024-02-14T15:27:02.922145",
     "status": "completed"
    },
    "tags": []
   },
   "source": [
    "# Importing libraries"
   ]
  },
  {
   "cell_type": "code",
   "execution_count": 1,
   "id": "1a8f342a",
   "metadata": {
    "execution": {
     "iopub.execute_input": "2024-02-14T15:27:02.957198Z",
     "iopub.status.busy": "2024-02-14T15:27:02.956638Z",
     "iopub.status.idle": "2024-02-14T15:27:05.539658Z",
     "shell.execute_reply": "2024-02-14T15:27:05.538498Z"
    },
    "papermill": {
     "duration": 2.597825,
     "end_time": "2024-02-14T15:27:05.542352",
     "exception": false,
     "start_time": "2024-02-14T15:27:02.944527",
     "status": "completed"
    },
    "tags": []
   },
   "outputs": [],
   "source": [
    "import numpy as np\n",
    "import pandas as pd\n",
    "\n",
    "import matplotlib.pyplot as plt\n",
    "import seaborn as sns\n",
    "\n",
    "from sklearn.preprocessing import StandardScaler\n",
    "from sklearn.preprocessing import LabelEncoder\n",
    "\n",
    "from sklearn.model_selection import train_test_split\n",
    "\n",
    "from sklearn.linear_model import LogisticRegression\n",
    "\n",
    "from sklearn.metrics import confusion_matrix\n",
    "from sklearn.metrics import accuracy_score\n",
    "\n",
    "from sklearn.decomposition import PCA"
   ]
  },
  {
   "cell_type": "markdown",
   "id": "f0feac48",
   "metadata": {
    "papermill": {
     "duration": 0.010617,
     "end_time": "2024-02-14T15:27:05.563926",
     "exception": false,
     "start_time": "2024-02-14T15:27:05.553309",
     "status": "completed"
    },
    "tags": []
   },
   "source": [
    "# Data Description"
   ]
  },
  {
   "cell_type": "code",
   "execution_count": 2,
   "id": "173d122b",
   "metadata": {
    "execution": {
     "iopub.execute_input": "2024-02-14T15:27:05.587474Z",
     "iopub.status.busy": "2024-02-14T15:27:05.586981Z",
     "iopub.status.idle": "2024-02-14T15:27:05.785543Z",
     "shell.execute_reply": "2024-02-14T15:27:05.784274Z"
    },
    "papermill": {
     "duration": 0.213492,
     "end_time": "2024-02-14T15:27:05.788287",
     "exception": false,
     "start_time": "2024-02-14T15:27:05.574795",
     "status": "completed"
    },
    "tags": []
   },
   "outputs": [],
   "source": [
    "data = pd.read_csv('/kaggle/input/adult-census-income/adult.csv')"
   ]
  },
  {
   "cell_type": "code",
   "execution_count": 3,
   "id": "e0d1100a",
   "metadata": {
    "execution": {
     "iopub.execute_input": "2024-02-14T15:27:05.812002Z",
     "iopub.status.busy": "2024-02-14T15:27:05.811606Z",
     "iopub.status.idle": "2024-02-14T15:27:05.833971Z",
     "shell.execute_reply": "2024-02-14T15:27:05.832811Z"
    },
    "papermill": {
     "duration": 0.03693,
     "end_time": "2024-02-14T15:27:05.836458",
     "exception": false,
     "start_time": "2024-02-14T15:27:05.799528",
     "status": "completed"
    },
    "tags": []
   },
   "outputs": [
    {
     "data": {
      "text/html": [
       "<div>\n",
       "<style scoped>\n",
       "    .dataframe tbody tr th:only-of-type {\n",
       "        vertical-align: middle;\n",
       "    }\n",
       "\n",
       "    .dataframe tbody tr th {\n",
       "        vertical-align: top;\n",
       "    }\n",
       "\n",
       "    .dataframe thead th {\n",
       "        text-align: right;\n",
       "    }\n",
       "</style>\n",
       "<table border=\"1\" class=\"dataframe\">\n",
       "  <thead>\n",
       "    <tr style=\"text-align: right;\">\n",
       "      <th></th>\n",
       "      <th>age</th>\n",
       "      <th>workclass</th>\n",
       "      <th>fnlwgt</th>\n",
       "      <th>education</th>\n",
       "      <th>education.num</th>\n",
       "      <th>marital.status</th>\n",
       "      <th>occupation</th>\n",
       "      <th>relationship</th>\n",
       "      <th>race</th>\n",
       "      <th>sex</th>\n",
       "      <th>capital.gain</th>\n",
       "      <th>capital.loss</th>\n",
       "      <th>hours.per.week</th>\n",
       "      <th>native.country</th>\n",
       "      <th>income</th>\n",
       "    </tr>\n",
       "  </thead>\n",
       "  <tbody>\n",
       "    <tr>\n",
       "      <th>0</th>\n",
       "      <td>90</td>\n",
       "      <td>?</td>\n",
       "      <td>77053</td>\n",
       "      <td>HS-grad</td>\n",
       "      <td>9</td>\n",
       "      <td>Widowed</td>\n",
       "      <td>?</td>\n",
       "      <td>Not-in-family</td>\n",
       "      <td>White</td>\n",
       "      <td>Female</td>\n",
       "      <td>0</td>\n",
       "      <td>4356</td>\n",
       "      <td>40</td>\n",
       "      <td>United-States</td>\n",
       "      <td>&lt;=50K</td>\n",
       "    </tr>\n",
       "    <tr>\n",
       "      <th>1</th>\n",
       "      <td>82</td>\n",
       "      <td>Private</td>\n",
       "      <td>132870</td>\n",
       "      <td>HS-grad</td>\n",
       "      <td>9</td>\n",
       "      <td>Widowed</td>\n",
       "      <td>Exec-managerial</td>\n",
       "      <td>Not-in-family</td>\n",
       "      <td>White</td>\n",
       "      <td>Female</td>\n",
       "      <td>0</td>\n",
       "      <td>4356</td>\n",
       "      <td>18</td>\n",
       "      <td>United-States</td>\n",
       "      <td>&lt;=50K</td>\n",
       "    </tr>\n",
       "    <tr>\n",
       "      <th>2</th>\n",
       "      <td>66</td>\n",
       "      <td>?</td>\n",
       "      <td>186061</td>\n",
       "      <td>Some-college</td>\n",
       "      <td>10</td>\n",
       "      <td>Widowed</td>\n",
       "      <td>?</td>\n",
       "      <td>Unmarried</td>\n",
       "      <td>Black</td>\n",
       "      <td>Female</td>\n",
       "      <td>0</td>\n",
       "      <td>4356</td>\n",
       "      <td>40</td>\n",
       "      <td>United-States</td>\n",
       "      <td>&lt;=50K</td>\n",
       "    </tr>\n",
       "    <tr>\n",
       "      <th>3</th>\n",
       "      <td>54</td>\n",
       "      <td>Private</td>\n",
       "      <td>140359</td>\n",
       "      <td>7th-8th</td>\n",
       "      <td>4</td>\n",
       "      <td>Divorced</td>\n",
       "      <td>Machine-op-inspct</td>\n",
       "      <td>Unmarried</td>\n",
       "      <td>White</td>\n",
       "      <td>Female</td>\n",
       "      <td>0</td>\n",
       "      <td>3900</td>\n",
       "      <td>40</td>\n",
       "      <td>United-States</td>\n",
       "      <td>&lt;=50K</td>\n",
       "    </tr>\n",
       "    <tr>\n",
       "      <th>4</th>\n",
       "      <td>41</td>\n",
       "      <td>Private</td>\n",
       "      <td>264663</td>\n",
       "      <td>Some-college</td>\n",
       "      <td>10</td>\n",
       "      <td>Separated</td>\n",
       "      <td>Prof-specialty</td>\n",
       "      <td>Own-child</td>\n",
       "      <td>White</td>\n",
       "      <td>Female</td>\n",
       "      <td>0</td>\n",
       "      <td>3900</td>\n",
       "      <td>40</td>\n",
       "      <td>United-States</td>\n",
       "      <td>&lt;=50K</td>\n",
       "    </tr>\n",
       "  </tbody>\n",
       "</table>\n",
       "</div>"
      ],
      "text/plain": [
       "   age workclass  fnlwgt     education  education.num marital.status  \\\n",
       "0   90         ?   77053       HS-grad              9        Widowed   \n",
       "1   82   Private  132870       HS-grad              9        Widowed   \n",
       "2   66         ?  186061  Some-college             10        Widowed   \n",
       "3   54   Private  140359       7th-8th              4       Divorced   \n",
       "4   41   Private  264663  Some-college             10      Separated   \n",
       "\n",
       "          occupation   relationship   race     sex  capital.gain  \\\n",
       "0                  ?  Not-in-family  White  Female             0   \n",
       "1    Exec-managerial  Not-in-family  White  Female             0   \n",
       "2                  ?      Unmarried  Black  Female             0   \n",
       "3  Machine-op-inspct      Unmarried  White  Female             0   \n",
       "4     Prof-specialty      Own-child  White  Female             0   \n",
       "\n",
       "   capital.loss  hours.per.week native.country income  \n",
       "0          4356              40  United-States  <=50K  \n",
       "1          4356              18  United-States  <=50K  \n",
       "2          4356              40  United-States  <=50K  \n",
       "3          3900              40  United-States  <=50K  \n",
       "4          3900              40  United-States  <=50K  "
      ]
     },
     "execution_count": 3,
     "metadata": {},
     "output_type": "execute_result"
    }
   ],
   "source": [
    "data.head()"
   ]
  },
  {
   "cell_type": "code",
   "execution_count": 4,
   "id": "e2d01039",
   "metadata": {
    "execution": {
     "iopub.execute_input": "2024-02-14T15:27:05.860903Z",
     "iopub.status.busy": "2024-02-14T15:27:05.860535Z",
     "iopub.status.idle": "2024-02-14T15:27:05.866816Z",
     "shell.execute_reply": "2024-02-14T15:27:05.865819Z"
    },
    "papermill": {
     "duration": 0.021412,
     "end_time": "2024-02-14T15:27:05.869252",
     "exception": false,
     "start_time": "2024-02-14T15:27:05.847840",
     "status": "completed"
    },
    "tags": []
   },
   "outputs": [
    {
     "data": {
      "text/plain": [
       "(32561, 15)"
      ]
     },
     "execution_count": 4,
     "metadata": {},
     "output_type": "execute_result"
    }
   ],
   "source": [
    "data.shape"
   ]
  },
  {
   "cell_type": "code",
   "execution_count": 5,
   "id": "dcfd3ae5",
   "metadata": {
    "execution": {
     "iopub.execute_input": "2024-02-14T15:27:05.894325Z",
     "iopub.status.busy": "2024-02-14T15:27:05.893610Z",
     "iopub.status.idle": "2024-02-14T15:27:05.953059Z",
     "shell.execute_reply": "2024-02-14T15:27:05.951962Z"
    },
    "papermill": {
     "duration": 0.074775,
     "end_time": "2024-02-14T15:27:05.955609",
     "exception": false,
     "start_time": "2024-02-14T15:27:05.880834",
     "status": "completed"
    },
    "tags": []
   },
   "outputs": [
    {
     "name": "stdout",
     "output_type": "stream",
     "text": [
      "<class 'pandas.core.frame.DataFrame'>\n",
      "RangeIndex: 32561 entries, 0 to 32560\n",
      "Data columns (total 15 columns):\n",
      " #   Column          Non-Null Count  Dtype \n",
      "---  ------          --------------  ----- \n",
      " 0   age             32561 non-null  int64 \n",
      " 1   workclass       32561 non-null  object\n",
      " 2   fnlwgt          32561 non-null  int64 \n",
      " 3   education       32561 non-null  object\n",
      " 4   education.num   32561 non-null  int64 \n",
      " 5   marital.status  32561 non-null  object\n",
      " 6   occupation      32561 non-null  object\n",
      " 7   relationship    32561 non-null  object\n",
      " 8   race            32561 non-null  object\n",
      " 9   sex             32561 non-null  object\n",
      " 10  capital.gain    32561 non-null  int64 \n",
      " 11  capital.loss    32561 non-null  int64 \n",
      " 12  hours.per.week  32561 non-null  int64 \n",
      " 13  native.country  32561 non-null  object\n",
      " 14  income          32561 non-null  object\n",
      "dtypes: int64(6), object(9)\n",
      "memory usage: 3.7+ MB\n"
     ]
    }
   ],
   "source": [
    "data.info()"
   ]
  },
  {
   "cell_type": "markdown",
   "id": "39edeead",
   "metadata": {
    "papermill": {
     "duration": 0.011071,
     "end_time": "2024-02-14T15:27:05.979055",
     "exception": false,
     "start_time": "2024-02-14T15:27:05.967984",
     "status": "completed"
    },
    "tags": []
   },
   "source": [
    "# Exploratory Data Analysis"
   ]
  },
  {
   "cell_type": "code",
   "execution_count": 6,
   "id": "bc3854b8",
   "metadata": {
    "execution": {
     "iopub.execute_input": "2024-02-14T15:27:06.004023Z",
     "iopub.status.busy": "2024-02-14T15:27:06.003362Z",
     "iopub.status.idle": "2024-02-14T15:27:06.008779Z",
     "shell.execute_reply": "2024-02-14T15:27:06.007940Z"
    },
    "papermill": {
     "duration": 0.020425,
     "end_time": "2024-02-14T15:27:06.010895",
     "exception": false,
     "start_time": "2024-02-14T15:27:05.990470",
     "status": "completed"
    },
    "tags": []
   },
   "outputs": [],
   "source": [
    "# categorical variables\n",
    "cat_cols = []\n",
    "for col in data.columns:\n",
    "    if data[col].dtype == 'O':\n",
    "        cat_cols.append(col)"
   ]
  },
  {
   "cell_type": "code",
   "execution_count": 7,
   "id": "a97dbd5d",
   "metadata": {
    "execution": {
     "iopub.execute_input": "2024-02-14T15:27:06.035390Z",
     "iopub.status.busy": "2024-02-14T15:27:06.034801Z",
     "iopub.status.idle": "2024-02-14T15:27:06.041346Z",
     "shell.execute_reply": "2024-02-14T15:27:06.040367Z"
    },
    "papermill": {
     "duration": 0.021523,
     "end_time": "2024-02-14T15:27:06.043677",
     "exception": false,
     "start_time": "2024-02-14T15:27:06.022154",
     "status": "completed"
    },
    "tags": []
   },
   "outputs": [
    {
     "data": {
      "text/plain": [
       "['workclass',\n",
       " 'education',\n",
       " 'marital.status',\n",
       " 'occupation',\n",
       " 'relationship',\n",
       " 'race',\n",
       " 'sex',\n",
       " 'native.country',\n",
       " 'income']"
      ]
     },
     "execution_count": 7,
     "metadata": {},
     "output_type": "execute_result"
    }
   ],
   "source": [
    "cat_cols"
   ]
  },
  {
   "cell_type": "code",
   "execution_count": 8,
   "id": "7242da3b",
   "metadata": {
    "execution": {
     "iopub.execute_input": "2024-02-14T15:27:06.068873Z",
     "iopub.status.busy": "2024-02-14T15:27:06.068505Z",
     "iopub.status.idle": "2024-02-14T15:27:06.072641Z",
     "shell.execute_reply": "2024-02-14T15:27:06.071682Z"
    },
    "papermill": {
     "duration": 0.019219,
     "end_time": "2024-02-14T15:27:06.074863",
     "exception": false,
     "start_time": "2024-02-14T15:27:06.055644",
     "status": "completed"
    },
    "tags": []
   },
   "outputs": [],
   "source": [
    "# education.num column should also be categorical so we will add it\n",
    "cat_cols.append('education.num')"
   ]
  },
  {
   "cell_type": "code",
   "execution_count": 9,
   "id": "7c5273f5",
   "metadata": {
    "execution": {
     "iopub.execute_input": "2024-02-14T15:27:06.100416Z",
     "iopub.status.busy": "2024-02-14T15:27:06.100062Z",
     "iopub.status.idle": "2024-02-14T15:27:06.123327Z",
     "shell.execute_reply": "2024-02-14T15:27:06.122248Z"
    },
    "papermill": {
     "duration": 0.038964,
     "end_time": "2024-02-14T15:27:06.125699",
     "exception": false,
     "start_time": "2024-02-14T15:27:06.086735",
     "status": "completed"
    },
    "tags": []
   },
   "outputs": [
    {
     "data": {
      "text/html": [
       "<div>\n",
       "<style scoped>\n",
       "    .dataframe tbody tr th:only-of-type {\n",
       "        vertical-align: middle;\n",
       "    }\n",
       "\n",
       "    .dataframe tbody tr th {\n",
       "        vertical-align: top;\n",
       "    }\n",
       "\n",
       "    .dataframe thead th {\n",
       "        text-align: right;\n",
       "    }\n",
       "</style>\n",
       "<table border=\"1\" class=\"dataframe\">\n",
       "  <thead>\n",
       "    <tr style=\"text-align: right;\">\n",
       "      <th></th>\n",
       "      <th>workclass</th>\n",
       "      <th>education</th>\n",
       "      <th>marital.status</th>\n",
       "      <th>occupation</th>\n",
       "      <th>relationship</th>\n",
       "      <th>race</th>\n",
       "      <th>sex</th>\n",
       "      <th>native.country</th>\n",
       "      <th>income</th>\n",
       "      <th>education.num</th>\n",
       "    </tr>\n",
       "  </thead>\n",
       "  <tbody>\n",
       "    <tr>\n",
       "      <th>0</th>\n",
       "      <td>?</td>\n",
       "      <td>HS-grad</td>\n",
       "      <td>Widowed</td>\n",
       "      <td>?</td>\n",
       "      <td>Not-in-family</td>\n",
       "      <td>White</td>\n",
       "      <td>Female</td>\n",
       "      <td>United-States</td>\n",
       "      <td>&lt;=50K</td>\n",
       "      <td>9</td>\n",
       "    </tr>\n",
       "    <tr>\n",
       "      <th>1</th>\n",
       "      <td>Private</td>\n",
       "      <td>HS-grad</td>\n",
       "      <td>Widowed</td>\n",
       "      <td>Exec-managerial</td>\n",
       "      <td>Not-in-family</td>\n",
       "      <td>White</td>\n",
       "      <td>Female</td>\n",
       "      <td>United-States</td>\n",
       "      <td>&lt;=50K</td>\n",
       "      <td>9</td>\n",
       "    </tr>\n",
       "    <tr>\n",
       "      <th>2</th>\n",
       "      <td>?</td>\n",
       "      <td>Some-college</td>\n",
       "      <td>Widowed</td>\n",
       "      <td>?</td>\n",
       "      <td>Unmarried</td>\n",
       "      <td>Black</td>\n",
       "      <td>Female</td>\n",
       "      <td>United-States</td>\n",
       "      <td>&lt;=50K</td>\n",
       "      <td>10</td>\n",
       "    </tr>\n",
       "    <tr>\n",
       "      <th>3</th>\n",
       "      <td>Private</td>\n",
       "      <td>7th-8th</td>\n",
       "      <td>Divorced</td>\n",
       "      <td>Machine-op-inspct</td>\n",
       "      <td>Unmarried</td>\n",
       "      <td>White</td>\n",
       "      <td>Female</td>\n",
       "      <td>United-States</td>\n",
       "      <td>&lt;=50K</td>\n",
       "      <td>4</td>\n",
       "    </tr>\n",
       "    <tr>\n",
       "      <th>4</th>\n",
       "      <td>Private</td>\n",
       "      <td>Some-college</td>\n",
       "      <td>Separated</td>\n",
       "      <td>Prof-specialty</td>\n",
       "      <td>Own-child</td>\n",
       "      <td>White</td>\n",
       "      <td>Female</td>\n",
       "      <td>United-States</td>\n",
       "      <td>&lt;=50K</td>\n",
       "      <td>10</td>\n",
       "    </tr>\n",
       "    <tr>\n",
       "      <th>...</th>\n",
       "      <td>...</td>\n",
       "      <td>...</td>\n",
       "      <td>...</td>\n",
       "      <td>...</td>\n",
       "      <td>...</td>\n",
       "      <td>...</td>\n",
       "      <td>...</td>\n",
       "      <td>...</td>\n",
       "      <td>...</td>\n",
       "      <td>...</td>\n",
       "    </tr>\n",
       "    <tr>\n",
       "      <th>32556</th>\n",
       "      <td>Private</td>\n",
       "      <td>Some-college</td>\n",
       "      <td>Never-married</td>\n",
       "      <td>Protective-serv</td>\n",
       "      <td>Not-in-family</td>\n",
       "      <td>White</td>\n",
       "      <td>Male</td>\n",
       "      <td>United-States</td>\n",
       "      <td>&lt;=50K</td>\n",
       "      <td>10</td>\n",
       "    </tr>\n",
       "    <tr>\n",
       "      <th>32557</th>\n",
       "      <td>Private</td>\n",
       "      <td>Assoc-acdm</td>\n",
       "      <td>Married-civ-spouse</td>\n",
       "      <td>Tech-support</td>\n",
       "      <td>Wife</td>\n",
       "      <td>White</td>\n",
       "      <td>Female</td>\n",
       "      <td>United-States</td>\n",
       "      <td>&lt;=50K</td>\n",
       "      <td>12</td>\n",
       "    </tr>\n",
       "    <tr>\n",
       "      <th>32558</th>\n",
       "      <td>Private</td>\n",
       "      <td>HS-grad</td>\n",
       "      <td>Married-civ-spouse</td>\n",
       "      <td>Machine-op-inspct</td>\n",
       "      <td>Husband</td>\n",
       "      <td>White</td>\n",
       "      <td>Male</td>\n",
       "      <td>United-States</td>\n",
       "      <td>&gt;50K</td>\n",
       "      <td>9</td>\n",
       "    </tr>\n",
       "    <tr>\n",
       "      <th>32559</th>\n",
       "      <td>Private</td>\n",
       "      <td>HS-grad</td>\n",
       "      <td>Widowed</td>\n",
       "      <td>Adm-clerical</td>\n",
       "      <td>Unmarried</td>\n",
       "      <td>White</td>\n",
       "      <td>Female</td>\n",
       "      <td>United-States</td>\n",
       "      <td>&lt;=50K</td>\n",
       "      <td>9</td>\n",
       "    </tr>\n",
       "    <tr>\n",
       "      <th>32560</th>\n",
       "      <td>Private</td>\n",
       "      <td>HS-grad</td>\n",
       "      <td>Never-married</td>\n",
       "      <td>Adm-clerical</td>\n",
       "      <td>Own-child</td>\n",
       "      <td>White</td>\n",
       "      <td>Male</td>\n",
       "      <td>United-States</td>\n",
       "      <td>&lt;=50K</td>\n",
       "      <td>9</td>\n",
       "    </tr>\n",
       "  </tbody>\n",
       "</table>\n",
       "<p>32561 rows × 10 columns</p>\n",
       "</div>"
      ],
      "text/plain": [
       "      workclass     education      marital.status         occupation  \\\n",
       "0             ?       HS-grad             Widowed                  ?   \n",
       "1       Private       HS-grad             Widowed    Exec-managerial   \n",
       "2             ?  Some-college             Widowed                  ?   \n",
       "3       Private       7th-8th            Divorced  Machine-op-inspct   \n",
       "4       Private  Some-college           Separated     Prof-specialty   \n",
       "...         ...           ...                 ...                ...   \n",
       "32556   Private  Some-college       Never-married    Protective-serv   \n",
       "32557   Private    Assoc-acdm  Married-civ-spouse       Tech-support   \n",
       "32558   Private       HS-grad  Married-civ-spouse  Machine-op-inspct   \n",
       "32559   Private       HS-grad             Widowed       Adm-clerical   \n",
       "32560   Private       HS-grad       Never-married       Adm-clerical   \n",
       "\n",
       "        relationship   race     sex native.country income  education.num  \n",
       "0      Not-in-family  White  Female  United-States  <=50K              9  \n",
       "1      Not-in-family  White  Female  United-States  <=50K              9  \n",
       "2          Unmarried  Black  Female  United-States  <=50K             10  \n",
       "3          Unmarried  White  Female  United-States  <=50K              4  \n",
       "4          Own-child  White  Female  United-States  <=50K             10  \n",
       "...              ...    ...     ...            ...    ...            ...  \n",
       "32556  Not-in-family  White    Male  United-States  <=50K             10  \n",
       "32557           Wife  White  Female  United-States  <=50K             12  \n",
       "32558        Husband  White    Male  United-States   >50K              9  \n",
       "32559      Unmarried  White  Female  United-States  <=50K              9  \n",
       "32560      Own-child  White    Male  United-States  <=50K              9  \n",
       "\n",
       "[32561 rows x 10 columns]"
      ]
     },
     "execution_count": 9,
     "metadata": {},
     "output_type": "execute_result"
    }
   ],
   "source": [
    "data[cat_cols]"
   ]
  },
  {
   "cell_type": "code",
   "execution_count": 10,
   "id": "eb9f2cb0",
   "metadata": {
    "execution": {
     "iopub.execute_input": "2024-02-14T15:27:06.151989Z",
     "iopub.status.busy": "2024-02-14T15:27:06.151625Z",
     "iopub.status.idle": "2024-02-14T15:27:06.210473Z",
     "shell.execute_reply": "2024-02-14T15:27:06.209347Z"
    },
    "papermill": {
     "duration": 0.076133,
     "end_time": "2024-02-14T15:27:06.214271",
     "exception": false,
     "start_time": "2024-02-14T15:27:06.138138",
     "status": "completed"
    },
    "tags": []
   },
   "outputs": [
    {
     "name": "stdout",
     "output_type": "stream",
     "text": [
      "workclass\n",
      "Private             22696\n",
      "Self-emp-not-inc     2541\n",
      "Local-gov            2093\n",
      "?                    1836\n",
      "State-gov            1298\n",
      "Self-emp-inc         1116\n",
      "Federal-gov           960\n",
      "Without-pay            14\n",
      "Never-worked            7\n",
      "Name: count, dtype: int64\n",
      "\n",
      "education\n",
      "HS-grad         10501\n",
      "Some-college     7291\n",
      "Bachelors        5355\n",
      "Masters          1723\n",
      "Assoc-voc        1382\n",
      "11th             1175\n",
      "Assoc-acdm       1067\n",
      "10th              933\n",
      "7th-8th           646\n",
      "Prof-school       576\n",
      "9th               514\n",
      "12th              433\n",
      "Doctorate         413\n",
      "5th-6th           333\n",
      "1st-4th           168\n",
      "Preschool          51\n",
      "Name: count, dtype: int64\n",
      "\n",
      "marital.status\n",
      "Married-civ-spouse       14976\n",
      "Never-married            10683\n",
      "Divorced                  4443\n",
      "Separated                 1025\n",
      "Widowed                    993\n",
      "Married-spouse-absent      418\n",
      "Married-AF-spouse           23\n",
      "Name: count, dtype: int64\n",
      "\n",
      "occupation\n",
      "Prof-specialty       4140\n",
      "Craft-repair         4099\n",
      "Exec-managerial      4066\n",
      "Adm-clerical         3770\n",
      "Sales                3650\n",
      "Other-service        3295\n",
      "Machine-op-inspct    2002\n",
      "?                    1843\n",
      "Transport-moving     1597\n",
      "Handlers-cleaners    1370\n",
      "Farming-fishing       994\n",
      "Tech-support          928\n",
      "Protective-serv       649\n",
      "Priv-house-serv       149\n",
      "Armed-Forces            9\n",
      "Name: count, dtype: int64\n",
      "\n",
      "relationship\n",
      "Husband           13193\n",
      "Not-in-family      8305\n",
      "Own-child          5068\n",
      "Unmarried          3446\n",
      "Wife               1568\n",
      "Other-relative      981\n",
      "Name: count, dtype: int64\n",
      "\n",
      "race\n",
      "White                 27816\n",
      "Black                  3124\n",
      "Asian-Pac-Islander     1039\n",
      "Amer-Indian-Eskimo      311\n",
      "Other                   271\n",
      "Name: count, dtype: int64\n",
      "\n",
      "sex\n",
      "Male      21790\n",
      "Female    10771\n",
      "Name: count, dtype: int64\n",
      "\n",
      "native.country\n",
      "United-States                 29170\n",
      "Mexico                          643\n",
      "?                               583\n",
      "Philippines                     198\n",
      "Germany                         137\n",
      "Canada                          121\n",
      "Puerto-Rico                     114\n",
      "El-Salvador                     106\n",
      "India                           100\n",
      "Cuba                             95\n",
      "England                          90\n",
      "Jamaica                          81\n",
      "South                            80\n",
      "China                            75\n",
      "Italy                            73\n",
      "Dominican-Republic               70\n",
      "Vietnam                          67\n",
      "Guatemala                        64\n",
      "Japan                            62\n",
      "Poland                           60\n",
      "Columbia                         59\n",
      "Taiwan                           51\n",
      "Haiti                            44\n",
      "Iran                             43\n",
      "Portugal                         37\n",
      "Nicaragua                        34\n",
      "Peru                             31\n",
      "Greece                           29\n",
      "France                           29\n",
      "Ecuador                          28\n",
      "Ireland                          24\n",
      "Hong                             20\n",
      "Cambodia                         19\n",
      "Trinadad&Tobago                  19\n",
      "Laos                             18\n",
      "Thailand                         18\n",
      "Yugoslavia                       16\n",
      "Outlying-US(Guam-USVI-etc)       14\n",
      "Hungary                          13\n",
      "Honduras                         13\n",
      "Scotland                         12\n",
      "Holand-Netherlands                1\n",
      "Name: count, dtype: int64\n",
      "\n",
      "income\n",
      "<=50K    24720\n",
      ">50K      7841\n",
      "Name: count, dtype: int64\n",
      "\n",
      "education.num\n",
      "9     10501\n",
      "10     7291\n",
      "13     5355\n",
      "14     1723\n",
      "11     1382\n",
      "7      1175\n",
      "12     1067\n",
      "6       933\n",
      "4       646\n",
      "15      576\n",
      "5       514\n",
      "8       433\n",
      "16      413\n",
      "3       333\n",
      "2       168\n",
      "1        51\n",
      "Name: count, dtype: int64\n",
      "\n"
     ]
    }
   ],
   "source": [
    "# We have imbalanced dataset\n",
    "for col in cat_cols:\n",
    "    print(data[col].value_counts())\n",
    "    print()"
   ]
  },
  {
   "cell_type": "code",
   "execution_count": 11,
   "id": "41436bc6",
   "metadata": {
    "execution": {
     "iopub.execute_input": "2024-02-14T15:27:06.241191Z",
     "iopub.status.busy": "2024-02-14T15:27:06.240801Z",
     "iopub.status.idle": "2024-02-14T15:27:06.244991Z",
     "shell.execute_reply": "2024-02-14T15:27:06.244256Z"
    },
    "papermill": {
     "duration": 0.020039,
     "end_time": "2024-02-14T15:27:06.247040",
     "exception": false,
     "start_time": "2024-02-14T15:27:06.227001",
     "status": "completed"
    },
    "tags": []
   },
   "outputs": [],
   "source": [
    "# numerical columns\n",
    "num_cols = set(data.columns).difference(cat_cols)"
   ]
  },
  {
   "cell_type": "code",
   "execution_count": 12,
   "id": "3ed68f9e",
   "metadata": {
    "execution": {
     "iopub.execute_input": "2024-02-14T15:27:06.273762Z",
     "iopub.status.busy": "2024-02-14T15:27:06.273410Z",
     "iopub.status.idle": "2024-02-14T15:27:06.279516Z",
     "shell.execute_reply": "2024-02-14T15:27:06.278469Z"
    },
    "papermill": {
     "duration": 0.022106,
     "end_time": "2024-02-14T15:27:06.281722",
     "exception": false,
     "start_time": "2024-02-14T15:27:06.259616",
     "status": "completed"
    },
    "tags": []
   },
   "outputs": [
    {
     "data": {
      "text/plain": [
       "['capital.loss', 'hours.per.week', 'age', 'fnlwgt', 'capital.gain']"
      ]
     },
     "execution_count": 12,
     "metadata": {},
     "output_type": "execute_result"
    }
   ],
   "source": [
    "num_cols = list(num_cols)\n",
    "num_cols"
   ]
  },
  {
   "cell_type": "code",
   "execution_count": 13,
   "id": "43e6320f",
   "metadata": {
    "execution": {
     "iopub.execute_input": "2024-02-14T15:27:06.308319Z",
     "iopub.status.busy": "2024-02-14T15:27:06.307958Z",
     "iopub.status.idle": "2024-02-14T15:27:09.587507Z",
     "shell.execute_reply": "2024-02-14T15:27:09.586739Z"
    },
    "papermill": {
     "duration": 3.29609,
     "end_time": "2024-02-14T15:27:09.590348",
     "exception": false,
     "start_time": "2024-02-14T15:27:06.294258",
     "status": "completed"
    },
    "tags": []
   },
   "outputs": [
    {
     "name": "stderr",
     "output_type": "stream",
     "text": [
      "/opt/conda/lib/python3.10/site-packages/seaborn/_oldcore.py:1119: FutureWarning: use_inf_as_na option is deprecated and will be removed in a future version. Convert inf values to NaN before operating instead.\n",
      "  with pd.option_context('mode.use_inf_as_na', True):\n",
      "/opt/conda/lib/python3.10/site-packages/seaborn/_oldcore.py:1119: FutureWarning: use_inf_as_na option is deprecated and will be removed in a future version. Convert inf values to NaN before operating instead.\n",
      "  with pd.option_context('mode.use_inf_as_na', True):\n",
      "/opt/conda/lib/python3.10/site-packages/seaborn/_oldcore.py:1119: FutureWarning: use_inf_as_na option is deprecated and will be removed in a future version. Convert inf values to NaN before operating instead.\n",
      "  with pd.option_context('mode.use_inf_as_na', True):\n",
      "/opt/conda/lib/python3.10/site-packages/seaborn/_oldcore.py:1119: FutureWarning: use_inf_as_na option is deprecated and will be removed in a future version. Convert inf values to NaN before operating instead.\n",
      "  with pd.option_context('mode.use_inf_as_na', True):\n",
      "/opt/conda/lib/python3.10/site-packages/seaborn/_oldcore.py:1119: FutureWarning: use_inf_as_na option is deprecated and will be removed in a future version. Convert inf values to NaN before operating instead.\n",
      "  with pd.option_context('mode.use_inf_as_na', True):\n"
     ]
    },
    {
     "data": {
      "text/plain": [
       "<Figure size 1000x3000 with 0 Axes>"
      ]
     },
     "metadata": {},
     "output_type": "display_data"
    },
    {
     "data": {
      "image/png": "[encoded data removed]",
      "text/plain": [
       "<Figure size 1000x1500 with 6 Axes>"
      ]
     },
     "metadata": {},
     "output_type": "display_data"
    }
   ],
   "source": [
    "plt.figure(figsize = (10, 30))\n",
    "\n",
    "fig, axes = plt.subplots(nrows = 3, ncols = 2, figsize = (10, 15))\n",
    "\n",
    "axes = axes.flatten()\n",
    "\n",
    "for i,col in enumerate(num_cols):\n",
    "    sns.histplot(data[col], kde = True, ax = axes[i])\n",
    "    \n",
    "plt.show()"
   ]
  },
  {
   "cell_type": "markdown",
   "id": "7ff49098",
   "metadata": {
    "papermill": {
     "duration": 0.014037,
     "end_time": "2024-02-14T15:27:09.618923",
     "exception": false,
     "start_time": "2024-02-14T15:27:09.604886",
     "status": "completed"
    },
    "tags": []
   },
   "source": [
    "# Data Cleaning"
   ]
  },
  {
   "cell_type": "code",
   "execution_count": 14,
   "id": "5d32af32",
   "metadata": {
    "execution": {
     "iopub.execute_input": "2024-02-14T15:27:09.650215Z",
     "iopub.status.busy": "2024-02-14T15:27:09.649402Z",
     "iopub.status.idle": "2024-02-14T15:27:09.686558Z",
     "shell.execute_reply": "2024-02-14T15:27:09.685538Z"
    },
    "papermill": {
     "duration": 0.055539,
     "end_time": "2024-02-14T15:27:09.689122",
     "exception": false,
     "start_time": "2024-02-14T15:27:09.633583",
     "status": "completed"
    },
    "tags": []
   },
   "outputs": [
    {
     "name": "stderr",
     "output_type": "stream",
     "text": [
      "/tmp/ipykernel_18/1161497436.py:5: FutureWarning: A value is trying to be set on a copy of a DataFrame or Series through chained assignment using an inplace method.\n",
      "The behavior will change in pandas 3.0. This inplace method will never work because the intermediate object on which we are setting values always behaves as a copy.\n",
      "\n",
      "For example, when doing 'df[col].method(value, inplace=True)', try using 'df.method({col: value}, inplace=True)' or df[col] = df[col].method(value) instead, to perform the operation inplace on the original object.\n",
      "\n",
      "\n",
      "  data[col].replace('?', data[col].mode()[0], inplace = True)\n"
     ]
    }
   ],
   "source": [
    "# only workclass, occupation and native.country has unknown values\n",
    "# imputing with mode values\n",
    "# In future, we will try to set unknown values of occupation as 'Others'\n",
    "for col in ['workclass', 'occupation', 'native.country']:\n",
    "    data[col].replace('?', data[col].mode()[0], inplace = True)"
   ]
  },
  {
   "cell_type": "code",
   "execution_count": 15,
   "id": "219163be",
   "metadata": {
    "execution": {
     "iopub.execute_input": "2024-02-14T15:27:09.720122Z",
     "iopub.status.busy": "2024-02-14T15:27:09.719445Z",
     "iopub.status.idle": "2024-02-14T15:27:09.736089Z",
     "shell.execute_reply": "2024-02-14T15:27:09.735000Z"
    },
    "papermill": {
     "duration": 0.034464,
     "end_time": "2024-02-14T15:27:09.738259",
     "exception": false,
     "start_time": "2024-02-14T15:27:09.703795",
     "status": "completed"
    },
    "tags": []
   },
   "outputs": [
    {
     "data": {
      "text/html": [
       "<div>\n",
       "<style scoped>\n",
       "    .dataframe tbody tr th:only-of-type {\n",
       "        vertical-align: middle;\n",
       "    }\n",
       "\n",
       "    .dataframe tbody tr th {\n",
       "        vertical-align: top;\n",
       "    }\n",
       "\n",
       "    .dataframe thead th {\n",
       "        text-align: right;\n",
       "    }\n",
       "</style>\n",
       "<table border=\"1\" class=\"dataframe\">\n",
       "  <thead>\n",
       "    <tr style=\"text-align: right;\">\n",
       "      <th></th>\n",
       "      <th>age</th>\n",
       "      <th>workclass</th>\n",
       "      <th>fnlwgt</th>\n",
       "      <th>education</th>\n",
       "      <th>education.num</th>\n",
       "      <th>marital.status</th>\n",
       "      <th>occupation</th>\n",
       "      <th>relationship</th>\n",
       "      <th>race</th>\n",
       "      <th>sex</th>\n",
       "      <th>capital.gain</th>\n",
       "      <th>capital.loss</th>\n",
       "      <th>hours.per.week</th>\n",
       "      <th>native.country</th>\n",
       "      <th>income</th>\n",
       "    </tr>\n",
       "  </thead>\n",
       "  <tbody>\n",
       "    <tr>\n",
       "      <th>0</th>\n",
       "      <td>90</td>\n",
       "      <td>Private</td>\n",
       "      <td>77053</td>\n",
       "      <td>HS-grad</td>\n",
       "      <td>9</td>\n",
       "      <td>Widowed</td>\n",
       "      <td>Prof-specialty</td>\n",
       "      <td>Not-in-family</td>\n",
       "      <td>White</td>\n",
       "      <td>Female</td>\n",
       "      <td>0</td>\n",
       "      <td>4356</td>\n",
       "      <td>40</td>\n",
       "      <td>United-States</td>\n",
       "      <td>&lt;=50K</td>\n",
       "    </tr>\n",
       "    <tr>\n",
       "      <th>1</th>\n",
       "      <td>82</td>\n",
       "      <td>Private</td>\n",
       "      <td>132870</td>\n",
       "      <td>HS-grad</td>\n",
       "      <td>9</td>\n",
       "      <td>Widowed</td>\n",
       "      <td>Exec-managerial</td>\n",
       "      <td>Not-in-family</td>\n",
       "      <td>White</td>\n",
       "      <td>Female</td>\n",
       "      <td>0</td>\n",
       "      <td>4356</td>\n",
       "      <td>18</td>\n",
       "      <td>United-States</td>\n",
       "      <td>&lt;=50K</td>\n",
       "    </tr>\n",
       "    <tr>\n",
       "      <th>2</th>\n",
       "      <td>66</td>\n",
       "      <td>Private</td>\n",
       "      <td>186061</td>\n",
       "      <td>Some-college</td>\n",
       "      <td>10</td>\n",
       "      <td>Widowed</td>\n",
       "      <td>Prof-specialty</td>\n",
       "      <td>Unmarried</td>\n",
       "      <td>Black</td>\n",
       "      <td>Female</td>\n",
       "      <td>0</td>\n",
       "      <td>4356</td>\n",
       "      <td>40</td>\n",
       "      <td>United-States</td>\n",
       "      <td>&lt;=50K</td>\n",
       "    </tr>\n",
       "    <tr>\n",
       "      <th>3</th>\n",
       "      <td>54</td>\n",
       "      <td>Private</td>\n",
       "      <td>140359</td>\n",
       "      <td>7th-8th</td>\n",
       "      <td>4</td>\n",
       "      <td>Divorced</td>\n",
       "      <td>Machine-op-inspct</td>\n",
       "      <td>Unmarried</td>\n",
       "      <td>White</td>\n",
       "      <td>Female</td>\n",
       "      <td>0</td>\n",
       "      <td>3900</td>\n",
       "      <td>40</td>\n",
       "      <td>United-States</td>\n",
       "      <td>&lt;=50K</td>\n",
       "    </tr>\n",
       "    <tr>\n",
       "      <th>4</th>\n",
       "      <td>41</td>\n",
       "      <td>Private</td>\n",
       "      <td>264663</td>\n",
       "      <td>Some-college</td>\n",
       "      <td>10</td>\n",
       "      <td>Separated</td>\n",
       "      <td>Prof-specialty</td>\n",
       "      <td>Own-child</td>\n",
       "      <td>White</td>\n",
       "      <td>Female</td>\n",
       "      <td>0</td>\n",
       "      <td>3900</td>\n",
       "      <td>40</td>\n",
       "      <td>United-States</td>\n",
       "      <td>&lt;=50K</td>\n",
       "    </tr>\n",
       "  </tbody>\n",
       "</table>\n",
       "</div>"
      ],
      "text/plain": [
       "   age workclass  fnlwgt     education  education.num marital.status  \\\n",
       "0   90   Private   77053       HS-grad              9        Widowed   \n",
       "1   82   Private  132870       HS-grad              9        Widowed   \n",
       "2   66   Private  186061  Some-college             10        Widowed   \n",
       "3   54   Private  140359       7th-8th              4       Divorced   \n",
       "4   41   Private  264663  Some-college             10      Separated   \n",
       "\n",
       "          occupation   relationship   race     sex  capital.gain  \\\n",
       "0     Prof-specialty  Not-in-family  White  Female             0   \n",
       "1    Exec-managerial  Not-in-family  White  Female             0   \n",
       "2     Prof-specialty      Unmarried  Black  Female             0   \n",
       "3  Machine-op-inspct      Unmarried  White  Female             0   \n",
       "4     Prof-specialty      Own-child  White  Female             0   \n",
       "\n",
       "   capital.loss  hours.per.week native.country income  \n",
       "0          4356              40  United-States  <=50K  \n",
       "1          4356              18  United-States  <=50K  \n",
       "2          4356              40  United-States  <=50K  \n",
       "3          3900              40  United-States  <=50K  \n",
       "4          3900              40  United-States  <=50K  "
      ]
     },
     "execution_count": 15,
     "metadata": {},
     "output_type": "execute_result"
    }
   ],
   "source": [
    "data.head()"
   ]
  },
  {
   "cell_type": "code",
   "execution_count": 16,
   "id": "51b12fe3",
   "metadata": {
    "execution": {
     "iopub.execute_input": "2024-02-14T15:27:09.768469Z",
     "iopub.status.busy": "2024-02-14T15:27:09.768143Z",
     "iopub.status.idle": "2024-02-14T15:27:09.780325Z",
     "shell.execute_reply": "2024-02-14T15:27:09.779064Z"
    },
    "papermill": {
     "duration": 0.030085,
     "end_time": "2024-02-14T15:27:09.782766",
     "exception": false,
     "start_time": "2024-02-14T15:27:09.752681",
     "status": "completed"
    },
    "tags": []
   },
   "outputs": [
    {
     "data": {
      "text/html": [
       "<div>\n",
       "<style scoped>\n",
       "    .dataframe tbody tr th:only-of-type {\n",
       "        vertical-align: middle;\n",
       "    }\n",
       "\n",
       "    .dataframe tbody tr th {\n",
       "        vertical-align: top;\n",
       "    }\n",
       "\n",
       "    .dataframe thead th {\n",
       "        text-align: right;\n",
       "    }\n",
       "</style>\n",
       "<table border=\"1\" class=\"dataframe\">\n",
       "  <thead>\n",
       "    <tr style=\"text-align: right;\">\n",
       "      <th></th>\n",
       "      <th>education.num</th>\n",
       "      <th>education</th>\n",
       "    </tr>\n",
       "  </thead>\n",
       "  <tbody>\n",
       "    <tr>\n",
       "      <th>0</th>\n",
       "      <td>9</td>\n",
       "      <td>HS-grad</td>\n",
       "    </tr>\n",
       "    <tr>\n",
       "      <th>1</th>\n",
       "      <td>9</td>\n",
       "      <td>HS-grad</td>\n",
       "    </tr>\n",
       "    <tr>\n",
       "      <th>2</th>\n",
       "      <td>10</td>\n",
       "      <td>Some-college</td>\n",
       "    </tr>\n",
       "    <tr>\n",
       "      <th>3</th>\n",
       "      <td>4</td>\n",
       "      <td>7th-8th</td>\n",
       "    </tr>\n",
       "    <tr>\n",
       "      <th>4</th>\n",
       "      <td>10</td>\n",
       "      <td>Some-college</td>\n",
       "    </tr>\n",
       "    <tr>\n",
       "      <th>...</th>\n",
       "      <td>...</td>\n",
       "      <td>...</td>\n",
       "    </tr>\n",
       "    <tr>\n",
       "      <th>32556</th>\n",
       "      <td>10</td>\n",
       "      <td>Some-college</td>\n",
       "    </tr>\n",
       "    <tr>\n",
       "      <th>32557</th>\n",
       "      <td>12</td>\n",
       "      <td>Assoc-acdm</td>\n",
       "    </tr>\n",
       "    <tr>\n",
       "      <th>32558</th>\n",
       "      <td>9</td>\n",
       "      <td>HS-grad</td>\n",
       "    </tr>\n",
       "    <tr>\n",
       "      <th>32559</th>\n",
       "      <td>9</td>\n",
       "      <td>HS-grad</td>\n",
       "    </tr>\n",
       "    <tr>\n",
       "      <th>32560</th>\n",
       "      <td>9</td>\n",
       "      <td>HS-grad</td>\n",
       "    </tr>\n",
       "  </tbody>\n",
       "</table>\n",
       "<p>32561 rows × 2 columns</p>\n",
       "</div>"
      ],
      "text/plain": [
       "       education.num     education\n",
       "0                  9       HS-grad\n",
       "1                  9       HS-grad\n",
       "2                 10  Some-college\n",
       "3                  4       7th-8th\n",
       "4                 10  Some-college\n",
       "...              ...           ...\n",
       "32556             10  Some-college\n",
       "32557             12    Assoc-acdm\n",
       "32558              9       HS-grad\n",
       "32559              9       HS-grad\n",
       "32560              9       HS-grad\n",
       "\n",
       "[32561 rows x 2 columns]"
      ]
     },
     "execution_count": 16,
     "metadata": {},
     "output_type": "execute_result"
    }
   ],
   "source": [
    "# We can see education is already label encoded in education.num, so we will drop education\n",
    "data[['education.num', 'education']]"
   ]
  },
  {
   "cell_type": "code",
   "execution_count": 17,
   "id": "3313acae",
   "metadata": {
    "execution": {
     "iopub.execute_input": "2024-02-14T15:27:09.816176Z",
     "iopub.status.busy": "2024-02-14T15:27:09.815784Z",
     "iopub.status.idle": "2024-02-14T15:27:09.825850Z",
     "shell.execute_reply": "2024-02-14T15:27:09.825008Z"
    },
    "papermill": {
     "duration": 0.029341,
     "end_time": "2024-02-14T15:27:09.828107",
     "exception": false,
     "start_time": "2024-02-14T15:27:09.798766",
     "status": "completed"
    },
    "tags": []
   },
   "outputs": [],
   "source": [
    "data.drop(['education'], axis = 1, inplace = True)"
   ]
  },
  {
   "cell_type": "markdown",
   "id": "05d7c46d",
   "metadata": {
    "papermill": {
     "duration": 0.015095,
     "end_time": "2024-02-14T15:27:09.858966",
     "exception": false,
     "start_time": "2024-02-14T15:27:09.843871",
     "status": "completed"
    },
    "tags": []
   },
   "source": [
    "# Data Pre-processing"
   ]
  },
  {
   "cell_type": "code",
   "execution_count": 18,
   "id": "4fdc5d1d",
   "metadata": {
    "execution": {
     "iopub.execute_input": "2024-02-14T15:27:09.893359Z",
     "iopub.status.busy": "2024-02-14T15:27:09.892609Z",
     "iopub.status.idle": "2024-02-14T15:27:09.903389Z",
     "shell.execute_reply": "2024-02-14T15:27:09.902257Z"
    },
    "papermill": {
     "duration": 0.030288,
     "end_time": "2024-02-14T15:27:09.906009",
     "exception": false,
     "start_time": "2024-02-14T15:27:09.875721",
     "status": "completed"
    },
    "tags": []
   },
   "outputs": [],
   "source": [
    "X = data.drop(['income'], axis = 1)\n",
    "y = data['income']"
   ]
  },
  {
   "cell_type": "code",
   "execution_count": 19,
   "id": "f4e94666",
   "metadata": {
    "execution": {
     "iopub.execute_input": "2024-02-14T15:27:09.938519Z",
     "iopub.status.busy": "2024-02-14T15:27:09.938121Z",
     "iopub.status.idle": "2024-02-14T15:27:09.960598Z",
     "shell.execute_reply": "2024-02-14T15:27:09.959499Z"
    },
    "papermill": {
     "duration": 0.041322,
     "end_time": "2024-02-14T15:27:09.963027",
     "exception": false,
     "start_time": "2024-02-14T15:27:09.921705",
     "status": "completed"
    },
    "tags": []
   },
   "outputs": [],
   "source": [
    "X_train, X_test, y_train, y_test = train_test_split(X, y, random_state = 8, test_size = 0.3)"
   ]
  },
  {
   "cell_type": "code",
   "execution_count": 20,
   "id": "5fa8acd3",
   "metadata": {
    "execution": {
     "iopub.execute_input": "2024-02-14T15:27:09.995678Z",
     "iopub.status.busy": "2024-02-14T15:27:09.995278Z",
     "iopub.status.idle": "2024-02-14T15:27:10.000031Z",
     "shell.execute_reply": "2024-02-14T15:27:09.998935Z"
    },
    "papermill": {
     "duration": 0.023488,
     "end_time": "2024-02-14T15:27:10.002068",
     "exception": false,
     "start_time": "2024-02-14T15:27:09.978580",
     "status": "completed"
    },
    "tags": []
   },
   "outputs": [],
   "source": [
    "cat_cols.remove('education')\n",
    "cat_cols.remove('income')"
   ]
  },
  {
   "cell_type": "code",
   "execution_count": 21,
   "id": "ab7f799d",
   "metadata": {
    "execution": {
     "iopub.execute_input": "2024-02-14T15:27:10.034673Z",
     "iopub.status.busy": "2024-02-14T15:27:10.034274Z",
     "iopub.status.idle": "2024-02-14T15:27:10.114157Z",
     "shell.execute_reply": "2024-02-14T15:27:10.113254Z"
    },
    "papermill": {
     "duration": 0.099269,
     "end_time": "2024-02-14T15:27:10.116623",
     "exception": false,
     "start_time": "2024-02-14T15:27:10.017354",
     "status": "completed"
    },
    "tags": []
   },
   "outputs": [],
   "source": [
    "label_encoder = LabelEncoder()\n",
    "for col in cat_cols:\n",
    "    X_train[col] = label_encoder.fit_transform(X_train[col])\n",
    "    X_test[col] = label_encoder.transform(X_test[col])"
   ]
  },
  {
   "cell_type": "code",
   "execution_count": 22,
   "id": "8739756a",
   "metadata": {
    "execution": {
     "iopub.execute_input": "2024-02-14T15:27:10.149352Z",
     "iopub.status.busy": "2024-02-14T15:27:10.148996Z",
     "iopub.status.idle": "2024-02-14T15:27:10.167732Z",
     "shell.execute_reply": "2024-02-14T15:27:10.166798Z"
    },
    "papermill": {
     "duration": 0.038147,
     "end_time": "2024-02-14T15:27:10.170282",
     "exception": false,
     "start_time": "2024-02-14T15:27:10.132135",
     "status": "completed"
    },
    "tags": []
   },
   "outputs": [],
   "source": [
    "scaler = StandardScaler()\n",
    "X_train = scaler.fit_transform(X_train)\n",
    "X_test = scaler.transform(X_test)"
   ]
  },
  {
   "cell_type": "code",
   "execution_count": 23,
   "id": "11d634dd",
   "metadata": {
    "execution": {
     "iopub.execute_input": "2024-02-14T15:27:10.204075Z",
     "iopub.status.busy": "2024-02-14T15:27:10.203279Z",
     "iopub.status.idle": "2024-02-14T15:27:10.210804Z",
     "shell.execute_reply": "2024-02-14T15:27:10.209756Z"
    },
    "papermill": {
     "duration": 0.026378,
     "end_time": "2024-02-14T15:27:10.213100",
     "exception": false,
     "start_time": "2024-02-14T15:27:10.186722",
     "status": "completed"
    },
    "tags": []
   },
   "outputs": [
    {
     "data": {
      "text/plain": [
       "array([[-0.18636555, -0.08486667, -0.24807436, ..., -0.21534294,\n",
       "        -0.03560969,  0.26141864],\n",
       "       [-1.21421076, -0.08486667, -1.18389285, ..., -0.21534294,\n",
       "        -0.03560969,  0.26141864],\n",
       "       [-0.11294804, -0.08486667,  0.52908627, ..., -0.21534294,\n",
       "        -0.03560969,  0.26141864],\n",
       "       ...,\n",
       "       [ 0.54780959, -0.08486667, -0.15386477, ..., -0.21534294,\n",
       "        -0.03560969,  0.26141864],\n",
       "       [ 0.03388699, -0.08486667, -1.26117025, ..., -0.21534294,\n",
       "        -0.03560969,  0.26141864],\n",
       "       [ 1.35540225, -0.08486667,  0.21678122, ..., -0.21534294,\n",
       "         0.37076728,  0.26141864]])"
      ]
     },
     "execution_count": 23,
     "metadata": {},
     "output_type": "execute_result"
    }
   ],
   "source": [
    "X_train"
   ]
  },
  {
   "cell_type": "markdown",
   "id": "b589e0b5",
   "metadata": {
    "papermill": {
     "duration": 0.015832,
     "end_time": "2024-02-14T15:27:10.244580",
     "exception": false,
     "start_time": "2024-02-14T15:27:10.228748",
     "status": "completed"
    },
    "tags": []
   },
   "source": [
    "# Without PCA"
   ]
  },
  {
   "cell_type": "code",
   "execution_count": 24,
   "id": "17dc9379",
   "metadata": {
    "execution": {
     "iopub.execute_input": "2024-02-14T15:27:10.277192Z",
     "iopub.status.busy": "2024-02-14T15:27:10.276800Z",
     "iopub.status.idle": "2024-02-14T15:27:10.390132Z",
     "shell.execute_reply": "2024-02-14T15:27:10.388580Z"
    },
    "papermill": {
     "duration": 0.134375,
     "end_time": "2024-02-14T15:27:10.394400",
     "exception": false,
     "start_time": "2024-02-14T15:27:10.260025",
     "status": "completed"
    },
    "tags": []
   },
   "outputs": [],
   "source": [
    "classifier = LogisticRegression()\n",
    "classifier.fit(X_train, y_train)\n",
    "y_pred = classifier.predict(X_test)"
   ]
  },
  {
   "cell_type": "code",
   "execution_count": 25,
   "id": "52153f04",
   "metadata": {
    "execution": {
     "iopub.execute_input": "2024-02-14T15:27:10.463789Z",
     "iopub.status.busy": "2024-02-14T15:27:10.463113Z",
     "iopub.status.idle": "2024-02-14T15:27:10.523447Z",
     "shell.execute_reply": "2024-02-14T15:27:10.522702Z"
    },
    "papermill": {
     "duration": 0.097534,
     "end_time": "2024-02-14T15:27:10.525532",
     "exception": false,
     "start_time": "2024-02-14T15:27:10.427998",
     "status": "completed"
    },
    "tags": []
   },
   "outputs": [
    {
     "data": {
      "text/plain": [
       "0.8205548162555021"
      ]
     },
     "execution_count": 25,
     "metadata": {},
     "output_type": "execute_result"
    }
   ],
   "source": [
    "accuracy_score(y_test, y_pred)"
   ]
  },
  {
   "cell_type": "code",
   "execution_count": 26,
   "id": "46245cd6",
   "metadata": {
    "execution": {
     "iopub.execute_input": "2024-02-14T15:27:10.559259Z",
     "iopub.status.busy": "2024-02-14T15:27:10.558558Z",
     "iopub.status.idle": "2024-02-14T15:27:10.981853Z",
     "shell.execute_reply": "2024-02-14T15:27:10.980829Z"
    },
    "papermill": {
     "duration": 0.443936,
     "end_time": "2024-02-14T15:27:10.985064",
     "exception": false,
     "start_time": "2024-02-14T15:27:10.541128",
     "status": "completed"
    },
    "tags": []
   },
   "outputs": [
    {
     "data": {
      "text/plain": [
       "<Axes: >"
      ]
     },
     "execution_count": 26,
     "metadata": {},
     "output_type": "execute_result"
    },
    {
     "data": {
      "image/png": "[encoded data removed]",
      "text/plain": [
       "<Figure size 640x480 with 2 Axes>"
      ]
     },
     "metadata": {},
     "output_type": "display_data"
    }
   ],
   "source": [
    "sns.heatmap(confusion_matrix(y_test, y_pred), annot = True, fmt = '')"
   ]
  },
  {
   "cell_type": "markdown",
   "id": "a683aca4",
   "metadata": {
    "papermill": {
     "duration": 0.017507,
     "end_time": "2024-02-14T15:27:11.025901",
     "exception": false,
     "start_time": "2024-02-14T15:27:11.008394",
     "status": "completed"
    },
    "tags": []
   },
   "source": [
    "# With PCA"
   ]
  },
  {
   "cell_type": "code",
   "execution_count": 27,
   "id": "213c4809",
   "metadata": {
    "execution": {
     "iopub.execute_input": "2024-02-14T15:27:11.062315Z",
     "iopub.status.busy": "2024-02-14T15:27:11.061380Z",
     "iopub.status.idle": "2024-02-14T15:27:11.103346Z",
     "shell.execute_reply": "2024-02-14T15:27:11.102038Z"
    },
    "papermill": {
     "duration": 0.077887,
     "end_time": "2024-02-14T15:27:11.120625",
     "exception": false,
     "start_time": "2024-02-14T15:27:11.042738",
     "status": "completed"
    },
    "tags": []
   },
   "outputs": [
    {
     "name": "stdout",
     "output_type": "stream",
     "text": [
      "The number of dimensions required to preserve 90% of variance is 11\n"
     ]
    }
   ],
   "source": [
    "# finding the ideal number of components\n",
    "pca= PCA()\n",
    "pca.fit(X_train)\n",
    "cumsum = np.cumsum(pca.explained_variance_ratio_)\n",
    "dim = np.argmax(cumsum >= 0.90) + 1\n",
    "print('The number of dimensions required to preserve 90% of variance is',dim)"
   ]
  },
  {
   "cell_type": "code",
   "execution_count": 28,
   "id": "b9c943ce",
   "metadata": {
    "execution": {
     "iopub.execute_input": "2024-02-14T15:27:11.241897Z",
     "iopub.status.busy": "2024-02-14T15:27:11.241447Z",
     "iopub.status.idle": "2024-02-14T15:27:11.290120Z",
     "shell.execute_reply": "2024-02-14T15:27:11.288403Z"
    },
    "papermill": {
     "duration": 0.072132,
     "end_time": "2024-02-14T15:27:11.294968",
     "exception": false,
     "start_time": "2024-02-14T15:27:11.222836",
     "status": "completed"
    },
    "tags": []
   },
   "outputs": [],
   "source": [
    "pca = PCA(n_components = 11)\n",
    "pca.fit(X_train)\n",
    "X_train_new = pca.fit_transform(X_train)\n",
    "X_test_new = pca.transform(X_test)"
   ]
  },
  {
   "cell_type": "code",
   "execution_count": 29,
   "id": "1af6c5cb",
   "metadata": {
    "execution": {
     "iopub.execute_input": "2024-02-14T15:27:11.407453Z",
     "iopub.status.busy": "2024-02-14T15:27:11.407015Z",
     "iopub.status.idle": "2024-02-14T15:27:11.518440Z",
     "shell.execute_reply": "2024-02-14T15:27:11.516940Z"
    },
    "papermill": {
     "duration": 0.166682,
     "end_time": "2024-02-14T15:27:11.522745",
     "exception": false,
     "start_time": "2024-02-14T15:27:11.356063",
     "status": "completed"
    },
    "tags": []
   },
   "outputs": [],
   "source": [
    "classifier = LogisticRegression()\n",
    "classifier.fit(X_train_new, y_train)\n",
    "y_pred = classifier.predict(X_test_new)"
   ]
  },
  {
   "cell_type": "code",
   "execution_count": 30,
   "id": "482294ee",
   "metadata": {
    "execution": {
     "iopub.execute_input": "2024-02-14T15:27:11.642156Z",
     "iopub.status.busy": "2024-02-14T15:27:11.641776Z",
     "iopub.status.idle": "2024-02-14T15:27:11.682829Z",
     "shell.execute_reply": "2024-02-14T15:27:11.681776Z"
    },
    "papermill": {
     "duration": 0.103303,
     "end_time": "2024-02-14T15:27:11.685108",
     "exception": false,
     "start_time": "2024-02-14T15:27:11.581805",
     "status": "completed"
    },
    "tags": []
   },
   "outputs": [
    {
     "data": {
      "text/plain": [
       "0.8213737332377931"
      ]
     },
     "execution_count": 30,
     "metadata": {},
     "output_type": "execute_result"
    }
   ],
   "source": [
    "accuracy_score(y_test, y_pred)"
   ]
  }
 ],
 "metadata": {
  "kaggle": {
   "accelerator": "none",
   "dataSources": [
    {
     "datasetId": 225,
     "sourceId": 498,
     "sourceType": "datasetVersion"
    }
   ],
   "dockerImageVersionId": 30646,
   "isGpuEnabled": false,
   "isInternetEnabled": true,
   "language": "python",
   "sourceType": "notebook"
  },
  "kernelspec": {
   "display_name": "Python 3",
   "language": "python",
   "name": "python3"
  },
  "language_info": {
   "codemirror_mode": {
    "name": "ipython",
    "version": 3
   },
   "file_extension": ".py",
   "mimetype": "text/x-python",
   "name": "python",
   "nbconvert_exporter": "python",
   "pygments_lexer": "ipython3",
   "version": "3.10.13"
  },
  "papermill": {
   "default_parameters": {},
   "duration": 12.270532,
   "end_time": "2024-02-14T15:27:12.322278",
   "environment_variables": {},
   "exception": null,
   "input_path": "__notebook__.ipynb",
   "output_path": "__notebook__.ipynb",
   "parameters": {},
   "start_time": "2024-02-14T15:27:00.051746",
   "version": "2.5.0"
  }
 },
 "nbformat": 4,
 "nbformat_minor": 5
}
